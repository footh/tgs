{
 "cells": [
  {
   "cell_type": "code",
   "execution_count": null,
   "metadata": {},
   "outputs": [],
   "source": [
    "%%javascript\n",
    "IPython.OutputArea.prototype._should_scroll = function(lines) {\n",
    "    return false;\n",
    "}"
   ]
  },
  {
   "cell_type": "code",
   "execution_count": null,
   "metadata": {},
   "outputs": [],
   "source": [
    "%matplotlib inline\n",
    "import sys\n",
    "sys.path.append('../../')\n",
    "\n",
    "import tensorflow as tf\n",
    "# tf.enable_eager_execution()\n",
    "from tensorflow import gfile\n",
    "import numpy as np\n",
    "from tgs import data\n",
    "import time\n",
    "from matplotlib import pyplot as plt\n",
    "from skimage import io\n",
    "\n",
    "np.set_printoptions(suppress=True,linewidth=np.nan,threshold=np.nan)"
   ]
  },
  {
   "cell_type": "code",
   "execution_count": null,
   "metadata": {},
   "outputs": [],
   "source": [
    "\n",
    "preds22 = np.load('../../pred-22.npy')\n",
    "preds21 = np.load('../../pred-21.npy')\n",
    "ids = np.load('../../ids.npy')"
   ]
  },
  {
   "cell_type": "code",
   "execution_count": null,
   "metadata": {},
   "outputs": [],
   "source": [
    "thresh = 0.5\n",
    "idx = 15015\n",
    "\n",
    "fig, axes = plt.subplots(nrows=2, ncols=3, figsize=(15, 10), sharex=True, sharey=True)\n",
    "ax = axes.ravel()\n",
    "\n",
    "img = io.imread(f'../data/test/images/{ids[idx]}.png')\n",
    "ax[0].imshow(preds21[idx])\n",
    "ax[1].imshow(img)\n",
    "ax[2].imshow(preds21[idx] > thresh)\n",
    "\n",
    "ax[3].imshow(preds22[idx])\n",
    "ax[4].imshow(img)\n",
    "ax[5].imshow(preds22[idx] > thresh)"
   ]
  },
  {
   "cell_type": "code",
   "execution_count": null,
   "metadata": {},
   "outputs": [],
   "source": []
  }
 ],
 "metadata": {
  "kernelspec": {
   "display_name": "Python 3",
   "language": "python",
   "name": "python3"
  },
  "language_info": {
   "codemirror_mode": {
    "name": "ipython",
    "version": 3
   },
   "file_extension": ".py",
   "mimetype": "text/x-python",
   "name": "python",
   "nbconvert_exporter": "python",
   "pygments_lexer": "ipython3",
   "version": "3.6.5"
  }
 },
 "nbformat": 4,
 "nbformat_minor": 2
}
