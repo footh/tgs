{
 "cells": [
  {
   "cell_type": "code",
   "execution_count": null,
   "metadata": {},
   "outputs": [],
   "source": [
    "%%javascript\n",
    "IPython.OutputArea.prototype._should_scroll = function(lines) {\n",
    "    return false;\n",
    "}"
   ]
  },
  {
   "cell_type": "code",
   "execution_count": null,
   "metadata": {},
   "outputs": [],
   "source": [
    "%matplotlib inline\n",
    "import sys\n",
    "sys.path.append('../../')\n",
    "\n",
    "import tensorflow as tf\n",
    "# tf.enable_eager_execution()\n",
    "from tensorflow import gfile\n",
    "import numpy as np\n",
    "from tgs import data\n",
    "import time\n",
    "from matplotlib import pyplot as plt\n",
    "from PIL import Image\n",
    "import os\n",
    "\n",
    "np.set_printoptions(suppress=True,linewidth=np.nan,threshold=np.nan)"
   ]
  },
  {
   "cell_type": "code",
   "execution_count": null,
   "metadata": {},
   "outputs": [],
   "source": [
    "config_dict = {\n",
    "    'train_file_pattern': '../data/train/tfrecord/tgs*',\n",
    "    'valid_file_pattern': '../data/valid/tfrecord/tgs*',\n",
    "    'test_file_pattern': '../data/test/tfrecord/tgs*',\n",
    "    'shuf_buf': 50000,\n",
    "    'parallel_calls': 8,\n",
    "    'ext': {\n",
    "        'resize_dim': 128,\n",
    "        'resize_method': 'pad',\n",
    "        'min_padding': 5\n",
    "    }\n",
    "}\n",
    "\n",
    "batch_size = 20\n",
    "num_epochs = 1\n",
    "\n",
    "def run_data(idi, mode=tf.estimator.ModeKeys.TRAIN, iters=None, resize_mth='pad', augment=None, resize=None):\n",
    "    if iters is None:\n",
    "        iters = 999999\n",
    "    \n",
    "    sess = tf.InteractiveSession()\n",
    "    d = idi.input_fn(mode, augment, resize)\n",
    "    cnt = 0\n",
    "    ids = []\n",
    "    imgs = []\n",
    "    masks = []\n",
    "    resizes = []\n",
    "    while True:\n",
    "        try:\n",
    "            img_dict, mask = sess.run(d)\n",
    "            ids.extend(img_dict['id'])\n",
    "            imgs.extend(img_dict['img'])\n",
    "            masks.extend(mask)\n",
    "            resizes.extend(img_dict[resize_mth])\n",
    "            cnt += 1\n",
    "            if cnt > iters:\n",
    "                break\n",
    "        except tf.errors.OutOfRangeError:\n",
    "            print(f\"Epoch finished on iteration {cnt}\")\n",
    "            break\n",
    "\n",
    "    sess.close()\n",
    "    tf.reset_default_graph()\n",
    "    \n",
    "    return ids, np.asarray(imgs), np.asarray(masks), np.asarray(resizes)\n",
    "\n",
    "\n",
    "def plot_images_and_masks(ids, imgs, masks, count=4):\n",
    "    fig, axes = plt.subplots(nrows=count, ncols=2, figsize=(10, 10 * (count // 2)), sharex=True, sharey=True)\n",
    "    ax = axes.ravel()\n",
    "\n",
    "    for i in range(count):\n",
    "        ax[i * 2].imshow(imgs[i], cmap=plt.cm.gray, interpolation='none', aspect='auto')\n",
    "        if isinstance(ids[i], str):\n",
    "            img_id = ids[i]\n",
    "        else:\n",
    "            img_id = ids[i].decode()\n",
    "        ax[i * 2].set_title(img_id)\n",
    "        ax[i * 2 + 1].imshow(masks[i], cmap=plt.cm.gray, interpolation='none', aspect='auto')\n"
   ]
  },
  {
   "cell_type": "code",
   "execution_count": null,
   "metadata": {},
   "outputs": [],
   "source": [
    "%%time\n",
    "augment = {'crop': None, 'brightness': None}\n",
    "# augment = None\n",
    "resize = [[13, 14], [13, 14], [0, 0]]\n",
    "# resize = None\n",
    "idi = data.ImageDataInput(config_dict,\n",
    "                          batch_size=batch_size,\n",
    "                          num_epochs=num_epochs,\n",
    "                          preprocess=True)\n",
    "resize_mth = config_dict['ext']['resize_method']\n",
    "ids, imgs, masks, resizes = run_data(idi, iters=None, \n",
    "                                     mode=tf.estimator.ModeKeys.TRAIN, resize_mth=resize_mth, \n",
    "                                     augment=augment,\n",
    "                                     resize=resize)"
   ]
  },
  {
   "cell_type": "code",
   "execution_count": null,
   "metadata": {},
   "outputs": [],
   "source": [
    "np.sum(masks[0]==0) + np.sum(masks[0]==255)"
   ]
  },
  {
   "cell_type": "code",
   "execution_count": null,
   "metadata": {},
   "outputs": [],
   "source": [
    "plot_images_and_masks(ids, imgs, masks, count=10)"
   ]
  },
  {
   "cell_type": "code",
   "execution_count": null,
   "metadata": {},
   "outputs": [],
   "source": [
    "idx = 0\n",
    "\n",
    "print('IMAGES')\n",
    "print(f'shape: {imgs[idx].shape}, dtype: {imgs[idx].dtype}')\n",
    "print(f'min: {np.min(imgs[idx])}, max: {np.max(imgs[idx])}')\n",
    "print('MASKS')\n",
    "print(f'shape: {masks[idx].shape}, dtype: {masks[idx].dtype}')\n",
    "print(f'min: {np.min(masks[1])}, max: {np.max(masks[1])}')"
   ]
  },
  {
   "cell_type": "code",
   "execution_count": null,
   "metadata": {},
   "outputs": [],
   "source": [
    "idx = 6\n",
    "mask = masks[idx]\n",
    "mask = np.expand_dims(mask, axis=0)\n",
    "sz = [(128, 128), (32, 32), (16, 16), (8, 8), (4, 4)]\n",
    "\n",
    "ops = []\n",
    "\n",
    "for i in range(5):\n",
    "    # tf.logging.info(lg.shape.as_list())\n",
    "    # s = tf.shape(lg)[1:3]\n",
    "    lb = tf.expand_dims(mask, axis=-1)\n",
    "    lb = tf.image.resize_bilinear(lb, sz[i], align_corners=True)\n",
    "    lb = tf.squeeze(lb, axis=-1)\n",
    "    lb = tf.cast(tf.greater(lb, 0.5), tf.float32)\n",
    "    ops.append(lb)\n",
    "    # loss = loss + tf.losses.sigmoid_cross_entropy(lb, lg)\n",
    "\n",
    "sess = tf.InteractiveSession()\n",
    "res = sess.run(ops)\n",
    "\n",
    "fig, axes = plt.subplots(nrows=5, ncols=1, figsize=(5, 25))\n",
    "ax = axes.ravel()\n",
    "\n",
    "for i, r in enumerate(res):\n",
    "    r = np.squeeze(r, axis=0)\n",
    "    print(r.shape)\n",
    "    print(f'shape: {r.shape}, min: {np.min(r)}, max: {np.max(r)}, 0s: {np.sum(r==0.)}, 1s: {np.sum(r==1.)}')\n",
    "    ax[i].imshow(r, cmap=plt.cm.gray, interpolation='none', aspect='auto')"
   ]
  },
  {
   "cell_type": "code",
   "execution_count": null,
   "metadata": {},
   "outputs": [],
   "source": [
    "cnt = 2\n",
    "images_pre = imgs[0:cnt]\n",
    "masks_pre = masks[0:cnt]\n",
    "\n",
    "transforms = [[1., 0., 0., 0., 1., 0., 0.001, 0.001]]\n",
    "\n",
    "imgt = tf.contrib.image.transform(images_pre, transforms, interpolation='NEAREST')\n",
    "maskt = tf.contrib.image.transform(tf.expand_dims(masks_pre, axis=-1), transforms, interpolation='NEAREST')\n",
    "maskt = tf.squeeze(maskt, axis=-1)\n",
    "\n",
    "with tf.Session() as s:\n",
    "    imgtt, masktt = s.run([imgt, maskt])\n",
    "    \n",
    "tf.reset_default_graph()"
   ]
  },
  {
   "cell_type": "code",
   "execution_count": null,
   "metadata": {},
   "outputs": [],
   "source": [
    "plot_images_and_masks(ids, imgtt, masktt, count=cnt)"
   ]
  },
  {
   "cell_type": "code",
   "execution_count": null,
   "metadata": {},
   "outputs": [],
   "source": [
    "%%time\n",
    "# augment = {'flip': None, 'rotation': 10}\n",
    "augment = None\n",
    "idi = data.ImageDataInputBinaryMask(config_dict,\n",
    "                                    batch_size=batch_size,\n",
    "                                    num_epochs=num_epochs,\n",
    "                                    preprocess=False)\n",
    "resize_mth = config_dict['ext']['resize_method']\n",
    "ids, imgs, masks, resizes = run_data(idi, iters=None, \n",
    "                                     mode=tf.estimator.ModeKeys.EVAL, resize_mth=resize_mth, augment=augment)"
   ]
  },
  {
   "cell_type": "code",
   "execution_count": null,
   "metadata": {},
   "outputs": [],
   "source": [
    "i = 15\n",
    "print(masks[i])\n",
    "print(ids[i])"
   ]
  },
  {
   "cell_type": "code",
   "execution_count": null,
   "metadata": {},
   "outputs": [],
   "source": [
    "mask_expr = '../data/raw/masks/*.png'\n",
    "mask_file = tf.gfile.Glob(mask_expr)\n",
    "\n",
    "ids = []\n",
    "imgs = []\n",
    "masks = []\n",
    "mask_sums = []\n",
    "for mf in mask_file:\n",
    "    img_id = os.path.splitext(os.path.basename(mf))[0]\n",
    "    ids.append(img_id)\n",
    "    \n",
    "    img_file = os.path.join(os.path.dirname(mf), '..', 'images', f'{img_id}.png')\n",
    "    imga = np.asarray(Image.open(img_file))\n",
    "    imgs.append(imga)\n",
    "    \n",
    "    maska = np.asarray(Image.open(mf))\n",
    "    masks.append(maska)\n",
    "    mask_sums.append(np.sum(maska > 0))\n",
    "    \n",
    "ids = np.asarray(ids)\n",
    "imgs = np.asarray(imgs)\n",
    "masks = np.asarray(masks)\n",
    "mask_sums = np.asarray(mask_sums)"
   ]
  },
  {
   "cell_type": "code",
   "execution_count": null,
   "metadata": {},
   "outputs": [],
   "source": [
    "small = 350\n",
    "\n",
    "idx_sm = np.where(np.logical_and(mask_sums >= 250, mask_sums < small))[0]\n",
    "print(f'small count: {len(idx_sm)}')\n",
    "ids_sm = ids[idx_sm]\n",
    "imgs_sm = imgs[idx_sm]\n",
    "masks_sm = masks[idx_sm]"
   ]
  },
  {
   "cell_type": "code",
   "execution_count": null,
   "metadata": {},
   "outputs": [],
   "source": [
    "plot_images_and_masks(ids_sm, imgs_sm, masks_sm, count=62)"
   ]
  },
  {
   "cell_type": "code",
   "execution_count": null,
   "metadata": {},
   "outputs": [],
   "source": [
    "imgs_vert = []\n",
    "masks_vert = []\n",
    "\n",
    "for d in ids_vert:\n",
    "    img_file = os.path.join('../data/raw/images/' f'{d}.png')\n",
    "    imga = np.asarray(Image.open(img_file))\n",
    "    imgs_vert.append(imga)\n",
    "    \n",
    "    mask_file = os.path.join('../data/raw/masks/' f'{d}.png')\n",
    "    maska = np.asarray(Image.open(mask_file))\n",
    "    masks_vert.append(maska)\n",
    "\n",
    "imgs_vert = np.asarray(imgs_vert)\n",
    "masks_vert = np.asarray(masks_vert)\n",
    "print(len(ids_vert))"
   ]
  },
  {
   "cell_type": "code",
   "execution_count": null,
   "metadata": {},
   "outputs": [],
   "source": [
    "plot_images_and_masks(ids_vert, imgs_vert, masks_vert, count=len(ids_vert))"
   ]
  },
  {
   "cell_type": "code",
   "execution_count": null,
   "metadata": {},
   "outputs": [],
   "source": []
  }
 ],
 "metadata": {
  "kernelspec": {
   "display_name": "Python 3",
   "language": "python",
   "name": "python3"
  },
  "language_info": {
   "codemirror_mode": {
    "name": "ipython",
    "version": 3
   },
   "file_extension": ".py",
   "mimetype": "text/x-python",
   "name": "python",
   "nbconvert_exporter": "python",
   "pygments_lexer": "ipython3",
   "version": "3.6.5"
  }
 },
 "nbformat": 4,
 "nbformat_minor": 2
}
