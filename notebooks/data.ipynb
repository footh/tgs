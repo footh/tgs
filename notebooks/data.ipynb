{
 "cells": [
  {
   "cell_type": "code",
   "execution_count": null,
   "metadata": {},
   "outputs": [],
   "source": [
    "%%javascript\n",
    "IPython.OutputArea.prototype._should_scroll = function(lines) {\n",
    "    return false;\n",
    "}"
   ]
  },
  {
   "cell_type": "code",
   "execution_count": null,
   "metadata": {},
   "outputs": [],
   "source": [
    "%matplotlib inline\n",
    "import sys\n",
    "sys.path.append('../../')\n",
    "\n",
    "import tensorflow as tf\n",
    "# tf.enable_eager_execution()\n",
    "from tensorflow import gfile\n",
    "import numpy as np\n",
    "from tgs import data\n",
    "import time\n",
    "from matplotlib import pyplot as plt\n",
    "\n",
    "np.set_printoptions(suppress=True,linewidth=np.nan,threshold=np.nan)"
   ]
  },
  {
   "cell_type": "code",
   "execution_count": null,
   "metadata": {},
   "outputs": [],
   "source": [
    "config_dict = {\n",
    "    'train_file_pattern': '/home/jfaath/projects/tgs/data/train/tfrecord/tgs*',\n",
    "    'valid_file_pattern': '/home/jfaath/projects/tgs/data/valid/tfrecord/tgs*',\n",
    "    'test_file_pattern': '/home/jfaath/projects/tgs/data/test/tfrecord/tgs*',\n",
    "    'shuf_buf': 50000,\n",
    "    'parallel_calls': 8,\n",
    "    'ext': {\n",
    "        'resize_dim': 128,\n",
    "        'resize_method': 'resize'\n",
    "    }\n",
    "}\n",
    "\n",
    "batch_size = 20\n",
    "num_epochs = 1\n",
    "\n",
    "def run_data(idi, mode=tf.estimator.ModeKeys.TRAIN, iters=None, resize_mth='pad', augment=None):\n",
    "    if iters is None:\n",
    "        iters = 999999\n",
    "    \n",
    "    sess = tf.InteractiveSession()\n",
    "    d = idi.input_fn(mode, augment)\n",
    "    cnt = 0\n",
    "    ids = []\n",
    "    imgs = []\n",
    "    masks = []\n",
    "    resizes = []\n",
    "    while True:\n",
    "        try:\n",
    "            img_dict, mask = sess.run(d)\n",
    "            ids.extend(img_dict['id'])\n",
    "            imgs.extend(img_dict['img'])\n",
    "            masks.extend(mask)\n",
    "            resizes.extend(img_dict[resize_mth])\n",
    "            cnt += 1\n",
    "            if cnt > iters:\n",
    "                break\n",
    "        except tf.errors.OutOfRangeError:\n",
    "            print(f\"Epoch finished on iteration {cnt}\")\n",
    "            break\n",
    "\n",
    "    sess.close()\n",
    "    tf.reset_default_graph()\n",
    "    \n",
    "    return ids, np.asarray(imgs), np.asarray(masks), np.asarray(resizes)\n",
    "\n",
    "\n",
    "def plot_images_and_masks(ids, imgs, masks, count=4):\n",
    "    fig, axes = plt.subplots(nrows=count, ncols=2, figsize=(10, 10 * (count // 2)), sharex=True, sharey=True)\n",
    "    ax = axes.ravel()\n",
    "\n",
    "    for i in range(count):\n",
    "        ax[i * 2].imshow(imgs[i], cmap=plt.cm.gray, interpolation='none', aspect='auto')\n",
    "        ax[i * 2].set_title(ids[i].decode())\n",
    "        ax[i * 2 + 1].imshow(masks[i], cmap=plt.cm.gray, interpolation='none', aspect='auto')\n"
   ]
  },
  {
   "cell_type": "code",
   "execution_count": null,
   "metadata": {},
   "outputs": [],
   "source": [
    "%%time\n",
    "augment = {'flip': None, 'rotation': 10}\n",
    "# augment = None\n",
    "idi = data.ImageDataInput(config_dict,\n",
    "                          batch_size=batch_size,\n",
    "                          num_epochs=num_epochs,\n",
    "                          preprocess=False)\n",
    "resize_mth = config_dict['ext']['resize_method']\n",
    "ids, imgs, masks, resizes = run_data(idi, iters=None, \n",
    "                                     mode=tf.estimator.ModeKeys.PREDICT, resize_mth=resize_mth, augment=augment)"
   ]
  },
  {
   "cell_type": "code",
   "execution_count": null,
   "metadata": {},
   "outputs": [],
   "source": [
    "plot_images_and_masks(ids, imgs, masks, count=10)"
   ]
  },
  {
   "cell_type": "code",
   "execution_count": null,
   "metadata": {},
   "outputs": [],
   "source": [
    "idx = 0\n",
    "\n",
    "print('IMAGES')\n",
    "print(f'shape: {imgs[idx].shape}, dtype: {imgs[idx].dtype}')\n",
    "print(f'min: {np.min(imgs[idx])}, max: {np.max(imgs[idx])}')\n",
    "print('MASKS')\n",
    "print(f'shape: {masks[idx].shape}, dtype: {masks[idx].dtype}')\n",
    "print(f'min: {np.min(masks[1])}, max: {np.max(masks[1])}')"
   ]
  },
  {
   "cell_type": "code",
   "execution_count": null,
   "metadata": {},
   "outputs": [],
   "source": [
    "cnt = 2\n",
    "images_pre = imgs[0:cnt]\n",
    "masks_pre = masks[0:cnt]\n",
    "\n",
    "transforms = [[1., 0., 0., 0., 1., 0., 0.001, 0.001]]\n",
    "\n",
    "imgt = tf.contrib.image.transform(images_pre, transforms, interpolation='NEAREST')\n",
    "maskt = tf.contrib.image.transform(tf.expand_dims(masks_pre, axis=-1), transforms, interpolation='NEAREST')\n",
    "maskt = tf.squeeze(maskt, axis=-1)\n",
    "\n",
    "with tf.Session() as s:\n",
    "    imgtt, masktt = s.run([imgt, maskt])\n",
    "    \n",
    "tf.reset_default_graph()"
   ]
  },
  {
   "cell_type": "code",
   "execution_count": null,
   "metadata": {},
   "outputs": [],
   "source": [
    "plot_images_and_masks(ids, imgtt, masktt, count=cnt)"
   ]
  },
  {
   "cell_type": "code",
   "execution_count": null,
   "metadata": {},
   "outputs": [],
   "source": []
  }
 ],
 "metadata": {
  "kernelspec": {
   "display_name": "Python 3",
   "language": "python",
   "name": "python3"
  },
  "language_info": {
   "codemirror_mode": {
    "name": "ipython",
    "version": 3
   },
   "file_extension": ".py",
   "mimetype": "text/x-python",
   "name": "python",
   "nbconvert_exporter": "python",
   "pygments_lexer": "ipython3",
   "version": "3.6.5"
  }
 },
 "nbformat": 4,
 "nbformat_minor": 2
}
