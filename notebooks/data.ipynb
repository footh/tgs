{
 "cells": [
  {
   "cell_type": "code",
   "execution_count": null,
   "metadata": {},
   "outputs": [],
   "source": [
    "%%javascript\n",
    "IPython.OutputArea.prototype._should_scroll = function(lines) {\n",
    "    return false;\n",
    "}"
   ]
  },
  {
   "cell_type": "code",
   "execution_count": null,
   "metadata": {},
   "outputs": [],
   "source": [
    "%matplotlib inline\n",
    "import sys\n",
    "sys.path.append('../../')\n",
    "\n",
    "import tensorflow as tf\n",
    "# tf.enable_eager_execution()\n",
    "from tensorflow import gfile\n",
    "import numpy as np\n",
    "from tgs import data\n",
    "import time\n",
    "from matplotlib import pyplot as plt\n",
    "\n",
    "np.set_printoptions(suppress=True,linewidth=np.nan,threshold=np.nan)"
   ]
  },
  {
   "cell_type": "code",
   "execution_count": null,
   "metadata": {},
   "outputs": [],
   "source": [
    "config_dict = {\n",
    "    'train_file_pattern': '/home/jfaath/projects/tgs/data/train/tfrecord/tgs*',\n",
    "    'valid_file_pattern': '/home/jfaath/projects/tgs/data/train/tfrecord/tgs*',\n",
    "    'test_file_pattern': '/home/jfaath/projects/tgs/data/test/tfrecord/tgs*',\n",
    "    'shuf_buf': 50000,\n",
    "    'parallel_calls': 4,\n",
    "    'ext': {\n",
    "        'resize_dim': 128\n",
    "    }\n",
    "}\n",
    "\n",
    "batch_size = 15\n",
    "num_epochs = 1\n",
    "\n",
    "def run_data(idi, mode=tf.estimator.ModeKeys.TRAIN):\n",
    "    start = time.process_time()\n",
    "\n",
    "    sess = tf.InteractiveSession()\n",
    "    d = idi.input_fn(mode=mode)\n",
    "    cnt = 0\n",
    "    ttl = 0\n",
    "    ids1 = []\n",
    "    while True:\n",
    "        try:\n",
    "            cnt += 1\n",
    "            img_dict, mask = sess.run(d)\n",
    "            ids1.extend(img_dict['id'])\n",
    "            if  cnt == 1:\n",
    "                break\n",
    "        except tf.errors.OutOfRangeError:\n",
    "            print(f\"Epoch finished on iteration {cnt}\")\n",
    "            break\n",
    "    # print(ids1)\n",
    "    sess.close()\n",
    "    tf.reset_default_graph()\n",
    "    end = time.process_time()\n",
    "    print(f\"Total processed: {ttl}\")\n",
    "    print(f\"Elapsed time: {end - start}\")\n",
    "    return img_dict, mask\n",
    "\n",
    "def plot_images_and_masks(ids, imgs, masks, count=4):\n",
    "    fig, axes = plt.subplots(nrows=count, ncols=2, figsize=(10, 10 * (count // 2)), sharex=True, sharey=True)\n",
    "    ax = axes.ravel()\n",
    "\n",
    "    for i in range(count):  \n",
    "        ax[i * 2].imshow(imgs[i - 1], cmap=plt.cm.gray, interpolation='none', aspect='auto')\n",
    "        ax[i * 2].set_title(ids[i - 1].decode())\n",
    "        ax[i * 2 + 1].imshow(masks[i - 1], cmap=plt.cm.gray, interpolation='none', aspect='auto')\n"
   ]
  },
  {
   "cell_type": "code",
   "execution_count": null,
   "metadata": {},
   "outputs": [],
   "source": [
    "idi = data.ImageDataInput(config_dict, \n",
    "                          batch_size=batch_size, \n",
    "                          num_epochs=num_epochs)\n",
    "\n",
    "img_dict, mask = run_data(idi)"
   ]
  },
  {
   "cell_type": "code",
   "execution_count": null,
   "metadata": {},
   "outputs": [],
   "source": [
    "plot_images_and_masks(img_dict['id'], img_dict['img'], mask, count=10)"
   ]
  },
  {
   "cell_type": "code",
   "execution_count": null,
   "metadata": {},
   "outputs": [],
   "source": [
    "idx = 0\n",
    "images = img_dict['img']\n",
    "\n",
    "print('IMAGES')\n",
    "print(f'shape: {images[idx].shape}, dtype: {images[idx].dtype}')\n",
    "print(f'min: {np.min(images[idx])}, max: {np.max(images[idx])}')\n",
    "print('MASKS')\n",
    "print(f'shape: {mask[idx].shape}, dtype: {mask[idx].dtype}')\n",
    "print(f'min: {np.min(mask[1])}, max: {np.max(mask[1])}')"
   ]
  },
  {
   "cell_type": "code",
   "execution_count": null,
   "metadata": {},
   "outputs": [],
   "source": [
    "np.sum((mask[0] < 200) & (mask[0] > 10))"
   ]
  },
  {
   "cell_type": "code",
   "execution_count": null,
   "metadata": {},
   "outputs": [],
   "source": []
  }
 ],
 "metadata": {
  "kernelspec": {
   "display_name": "Python 3",
   "language": "python",
   "name": "python3"
  },
  "language_info": {
   "codemirror_mode": {
    "name": "ipython",
    "version": 3
   },
   "file_extension": ".py",
   "mimetype": "text/x-python",
   "name": "python",
   "nbconvert_exporter": "python",
   "pygments_lexer": "ipython3",
   "version": "3.6.5"
  }
 },
 "nbformat": 4,
 "nbformat_minor": 2
}
